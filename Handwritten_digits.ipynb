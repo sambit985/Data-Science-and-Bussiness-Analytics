{
  "nbformat": 4,
  "nbformat_minor": 0,
  "metadata": {
    "colab": {
      "name": "Handwritten_digits.ipynb",
      "provenance": [],
      "collapsed_sections": [],
      "authorship_tag": "ABX9TyNOgHwRAhIyitn+rEDgWD+/",
      "include_colab_link": true
    },
    "kernelspec": {
      "name": "python3",
      "display_name": "Python 3"
    },
    "language_info": {
      "name": "python"
    }
  },
  "cells": [
    {
      "cell_type": "markdown",
      "metadata": {
        "id": "view-in-github",
        "colab_type": "text"
      },
      "source": [
        "<a href=\"https://colab.research.google.com/github/sambit985/Data-Science-and-Bussiness-Analytics/blob/main/Handwritten_digits.ipynb\" target=\"_parent\"><img src=\"https://colab.research.google.com/assets/colab-badge.svg\" alt=\"Open In Colab\"/></a>"
      ]
    },
    {
      "cell_type": "code",
      "metadata": {
        "id": "HQaxtjIeD4ov"
      },
      "source": [
        ""
      ],
      "execution_count": null,
      "outputs": []
    },
    {
      "cell_type": "markdown",
      "metadata": {
        "id": "QzKVOPyDHE2A"
      },
      "source": [
        "Internship :- Suven Consultant & Pvt.Ltd"
      ]
    },
    {
      "cell_type": "markdown",
      "metadata": {
        "id": "BZdChUx0HNHt"
      },
      "source": [
        "Name:- Sambit Kumar Nayak"
      ]
    },
    {
      "cell_type": "markdown",
      "metadata": {
        "id": "h-l4Z7lNHeEi"
      },
      "source": [
        "Task:- Handwritten digit Recognition"
      ]
    },
    {
      "cell_type": "markdown",
      "metadata": {
        "id": "Me_3kzBPGC_r"
      },
      "source": [
        "#Import Liabraries"
      ]
    },
    {
      "cell_type": "code",
      "metadata": {
        "id": "h3HXH3AUD4wJ"
      },
      "source": [
        " %matplotlib inline\n",
        " \n",
        "import numpy as np\n",
        "import matplotlib.pyplot as plt\n",
        "import pandas as pd\n",
        "from sklearn.datasets import fetch_openml\n",
        "from sklearn.model_selection import train_test_split\n",
        "from sklearn.linear_model import LogisticRegression\n",
        "from sklearn import metrics"
      ],
      "execution_count": null,
      "outputs": []
    },
    {
      "cell_type": "markdown",
      "metadata": {
        "id": "Mr3L7KRkGOKJ"
      },
      "source": [
        "Dataset from openml"
      ]
    },
    {
      "cell_type": "markdown",
      "metadata": {
        "id": "5qFmNc-RGbud"
      },
      "source": [
        "https://www.openml.org/d/554 - Dataset"
      ]
    },
    {
      "cell_type": "code",
      "metadata": {
        "id": "ieIJhp_KD8tn"
      },
      "source": [
        "mnist = fetch_openml('mnist_784')"
      ],
      "execution_count": null,
      "outputs": []
    },
    {
      "cell_type": "code",
      "metadata": {
        "colab": {
          "base_uri": "https://localhost:8080/"
        },
        "id": "_qOBKMpDEMuS",
        "outputId": "efd238b6-8033-496c-ce84-d7139a7a997a"
      },
      "source": [
        "mnist.data[:5]"
      ],
      "execution_count": null,
      "outputs": [
        {
          "output_type": "execute_result",
          "data": {
            "text/plain": [
              "array([[0., 0., 0., ..., 0., 0., 0.],\n",
              "       [0., 0., 0., ..., 0., 0., 0.],\n",
              "       [0., 0., 0., ..., 0., 0., 0.],\n",
              "       [0., 0., 0., ..., 0., 0., 0.],\n",
              "       [0., 0., 0., ..., 0., 0., 0.]])"
            ]
          },
          "metadata": {},
          "execution_count": 12
        }
      ]
    },
    {
      "cell_type": "code",
      "metadata": {
        "colab": {
          "base_uri": "https://localhost:8080/"
        },
        "id": "Pq678vYEEd4z",
        "outputId": "81fa8703-3f25-486b-fa92-131fa804d595"
      },
      "source": [
        "mnist.target[:5]"
      ],
      "execution_count": null,
      "outputs": [
        {
          "output_type": "execute_result",
          "data": {
            "text/plain": [
              "array(['5', '0', '4', '1', '9'], dtype=object)"
            ]
          },
          "metadata": {},
          "execution_count": 14
        }
      ]
    },
    {
      "cell_type": "markdown",
      "metadata": {
        "id": "KghCLC9JGma9"
      },
      "source": [
        "Plotting Actual label using matplotlib"
      ]
    },
    {
      "cell_type": "code",
      "metadata": {
        "colab": {
          "base_uri": "https://localhost:8080/",
          "height": 65
        },
        "id": "PntgpJLiEjr0",
        "outputId": "44a08e8c-df7b-413c-d44a-4b07b775376d"
      },
      "source": [
        "plt.figure(figsize=(20,5))\n",
        "for index, (image,label) in enumerate(zip(mnist.data[:6], mnist.target[:6])):\n",
        "    plt.subplot(1, 6, index+1)\n",
        "    plt.imshow(np.reshape(image, (28,28)), cmap=\"gray\")\n",
        "    plt.title(\"Actual No.%s\" % label)"
      ],
      "execution_count": null,
      "outputs": [
        {
          "output_type": "display_data",
          "data": {
            "image/png": "[encoded data removed]",
            "text/plain": [
              "<Figure size 1440x360 with 6 Axes>"
            ]
          },
          "metadata": {
            "needs_background": "light"
          }
        }
      ]
    },
    {
      "cell_type": "markdown",
      "metadata": {
        "id": "zUBSo_ykGw9k"
      },
      "source": [
        "Splitting data into train and test measuring prediction score"
      ]
    },
    {
      "cell_type": "code",
      "metadata": {
        "id": "tKZo3_PZEpSc"
      },
      "source": [
        "X_train, X_test, y_train, y_test = train_test_split(mnist.data, mnist.target, test_size=0.2)"
      ],
      "execution_count": null,
      "outputs": []
    },
    {
      "cell_type": "code",
      "metadata": {
        "colab": {
          "base_uri": "https://localhost:8080/"
        },
        "id": "-rki1QD7E5oa",
        "outputId": "e6d1756d-bfe7-41d6-d436-6edfbc9a87df"
      },
      "source": [
        "mdl = LogisticRegression(solver=\"lbfgs\",max_iter=126)\n",
        "mdl.fit(X_train,y_train)\n",
        "prediction = mdl.predict(X_test)\n",
        "score = mdl.score(X_test, y_test) \n",
        "print(score)"
      ],
      "execution_count": null,
      "outputs": [
        {
          "output_type": "stream",
          "name": "stdout",
          "text": [
            "0.9185\n",
            "0.9185\n"
          ]
        },
        {
          "output_type": "stream",
          "name": "stderr",
          "text": [
            "/usr/local/lib/python3.7/dist-packages/sklearn/linear_model/_logistic.py:940: ConvergenceWarning: lbfgs failed to converge (status=1):\n",
            "STOP: TOTAL NO. of ITERATIONS REACHED LIMIT.\n",
            "\n",
            "Increase the number of iterations (max_iter) or scale the data as shown in:\n",
            "    https://scikit-learn.org/stable/modules/preprocessing.html\n",
            "Please also refer to the documentation for alternative solver options:\n",
            "    https://scikit-learn.org/stable/modules/linear_model.html#logistic-regression\n",
            "  extra_warning_msg=_LOGISTIC_SOLVER_CONVERGENCE_MSG)\n",
            "/usr/local/lib/python3.7/dist-packages/sklearn/linear_model/_logistic.py:940: ConvergenceWarning: lbfgs failed to converge (status=1):\n",
            "STOP: TOTAL NO. of ITERATIONS REACHED LIMIT.\n",
            "\n",
            "Increase the number of iterations (max_iter) or scale the data as shown in:\n",
            "    https://scikit-learn.org/stable/modules/preprocessing.html\n",
            "Please also refer to the documentation for alternative solver options:\n",
            "    https://scikit-learn.org/stable/modules/linear_model.html#logistic-regression\n",
            "  extra_warning_msg=_LOGISTIC_SOLVER_CONVERGENCE_MSG)\n"
          ]
        }
      ]
    },
    {
      "cell_type": "code",
      "metadata": {
        "colab": {
          "base_uri": "https://localhost:8080/"
        },
        "id": "pGb8bFCEFVYw",
        "outputId": "fac2d0ce-fbe6-4f7c-f4c0-622cc09c8da6"
      },
      "source": [
        "print(\"Accurcay is :\",round(score,2)*100,\"%\")"
      ],
      "execution_count": null,
      "outputs": [
        {
          "output_type": "stream",
          "name": "stdout",
          "text": [
            "Accurcay is : 92.0 %\n"
          ]
        }
      ]
    },
    {
      "cell_type": "code",
      "metadata": {
        "colab": {
          "base_uri": "https://localhost:8080/",
          "height": 282
        },
        "id": "O3BnpTPyFfQW",
        "outputId": "cd7523eb-33ff-42e1-e6db-65dc52cf6b8e"
      },
      "source": [
        "index = 3\n",
        "plt.imshow(np.reshape(X_test[index],(28,28)), cmap = \"gray\")\n",
        "print(\"prediction: \" + mdl.predict([X_test[index]])[0])"
      ],
      "execution_count": null,
      "outputs": [
        {
          "output_type": "stream",
          "name": "stdout",
          "text": [
            "prediction: 7\n"
          ]
        },
        {
          "output_type": "display_data",
          "data": {
            "image/png": "[encoded data removed]",
            "text/plain": [
              "<Figure size 432x288 with 1 Axes>"
            ]
          },
          "metadata": {
            "needs_background": "light"
          }
        }
      ]
    },
    {
      "cell_type": "markdown",
      "metadata": {
        "id": "gJBOD6KSG923"
      },
      "source": [
        "Confusion matrix value and visualization"
      ]
    },
    {
      "cell_type": "code",
      "metadata": {
        "colab": {
          "base_uri": "https://localhost:8080/"
        },
        "id": "Q_nsyGJDFjlW",
        "outputId": "b73b10fc-283d-42ba-83de-4bab34ca3805"
      },
      "source": [
        "cm = metrics.confusion_matrix(y_test,prediction)\n",
        "cm"
      ],
      "execution_count": null,
      "outputs": [
        {
          "output_type": "execute_result",
          "data": {
            "text/plain": [
              "array([[1315,    0,    5,    6,    3,   10,   10,    0,   13,    2],\n",
              "       [   0, 1539,   14,    6,    1,    4,    0,    3,   15,    1],\n",
              "       [   5,   17, 1260,   28,   13,    6,   12,   13,   40,    4],\n",
              "       [   6,    3,   30, 1263,    5,   47,    2,   18,   23,   12],\n",
              "       [   4,    6,    7,    3, 1259,    1,   13,    4,   15,   51],\n",
              "       [  18,    8,   10,   45,   21, 1123,   21,    6,   44,    9],\n",
              "       [   5,    3,    9,    0,   10,   24, 1316,    2,    5,    0],\n",
              "       [   4,    3,   19,    5,   16,    1,    1, 1364,    5,   53],\n",
              "       [   2,   26,   19,   35,    5,   41,   11,    9, 1172,   16],\n",
              "       [   5,    9,    5,   29,   37,    6,    3,   44,   11, 1248]])"
            ]
          },
          "metadata": {},
          "execution_count": 21
        }
      ]
    },
    {
      "cell_type": "code",
      "metadata": {
        "colab": {
          "base_uri": "https://localhost:8080/",
          "height": 276
        },
        "id": "i0qbxBiuF4V7",
        "outputId": "cb283792-c1c6-4ced-a526-049d768d7450"
      },
      "source": [
        "plt.figure(figsize=(8,8))\n",
        "plt.imshow(cm, cmap=\"Set2\")\n",
        " \n",
        "plt.xticks(np.arange(10))\n",
        "plt.yticks(np.arange(10))\n",
        " \n",
        "plt.xlabel(\"Predicted Data\")\n",
        "plt.ylabel(\"Actual Data\")\n",
        "plt.colorbar()\n",
        " \n",
        "plt.title(\"Confusion Matrix of Mnist Data\")\n",
        " \n",
        "width, height = cm.shape\n",
        "for x in range(width):\n",
        "    for y in range(height):\n",
        "        plt.annotate(str(cm[x][y]), xy=(y,x), horizontalalignment='center',verticalalignment='center')"
      ],
      "execution_count": null,
      "outputs": [
        {
          "output_type": "display_data",
          "data": {
            "image/png": "[encoded data removed]",
            "text/plain": [
              "<Figure size 576x576 with 2 Axes>"
            ]
          },
          "metadata": {
            "needs_background": "light"
          }
        }
      ]
    }
  ]
}